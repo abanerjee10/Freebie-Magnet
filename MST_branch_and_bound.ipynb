{
  "nbformat": 4,
  "nbformat_minor": 0,
  "metadata": {
    "colab": {
      "name": "cse6140TSP.ipynb",
      "provenance": [],
      "collapsed_sections": [],
      "authorship_tag": "ABX9TyPXC9/N5ZmLZ8RNUDlU4u9r",
      "include_colab_link": true
    },
    "kernelspec": {
      "name": "python3",
      "display_name": "Python 3"
    },
    "language_info": {
      "name": "python"
    }
  },
  "cells": [
    {
      "cell_type": "markdown",
      "metadata": {
        "id": "view-in-github",
        "colab_type": "text"
      },
      "source": [
        "<a href=\"https://colab.research.google.com/github/abanerjee10/Freebie-Magnet/blob/master/MST_branch_and_bound.ipynb\" target=\"_parent\"><img src=\"https://colab.research.google.com/assets/colab-badge.svg\" alt=\"Open In Colab\"/></a>"
      ]
    },
    {
      "cell_type": "code",
      "metadata": {
        "id": "HHfR-pjUAo4e"
      },
      "source": [
        "import networkx as nx\n",
        "import numpy as np\n",
        "import pandas as pd"
      ],
      "execution_count": 69,
      "outputs": []
    },
    {
      "cell_type": "code",
      "metadata": {
        "colab": {
          "base_uri": "https://localhost:8080/"
        },
        "id": "STf_KGPfaC7E",
        "outputId": "e9a1fae3-19b9-45dd-f3d8-3279796ba453"
      },
      "source": [
        "!unzip DATA.zip"
      ],
      "execution_count": 20,
      "outputs": [
        {
          "output_type": "stream",
          "name": "stdout",
          "text": [
            "Archive:  DATA.zip\n",
            "replace DATA/Roanoke.tsp? [y]es, [n]o, [A]ll, [N]one, [r]ename: "
          ]
        }
      ]
    },
    {
      "cell_type": "code",
      "metadata": {
        "id": "Q6mdEFV9iPNv"
      },
      "source": [
        "n=int(open('DATA/Berlin.tsp').readlines()[2][len('DIMENSION: '):])\n",
        "input=np.loadtxt(\"DATA/Berlin.tsp\",skiprows=5,max_rows=n)"
      ],
      "execution_count": 70,
      "outputs": []
    },
    {
      "cell_type": "code",
      "metadata": {
        "id": "88_PQkMi1Ju8"
      },
      "source": [
        "G = nx.from_numpy_matrix(distance_matrix(input[:,1:],input[:,1:]))"
      ],
      "execution_count": 71,
      "outputs": []
    },
    {
      "cell_type": "code",
      "metadata": {
        "id": "JKdJTUmL1WyP"
      },
      "source": [
        "T=nx.minimum_spanning_tree(G)"
      ],
      "execution_count": 72,
      "outputs": []
    },
    {
      "cell_type": "code",
      "metadata": {
        "id": "CuTYbVfw-2gb"
      },
      "source": [
        "eulerian_cycle = list(nx.eulerian_circuit(T.to_directed(),source=0))"
      ],
      "execution_count": 80,
      "outputs": []
    },
    {
      "cell_type": "code",
      "metadata": {
        "id": "dL0m91_sBPkc"
      },
      "source": [
        "visited_nodes=[]\n",
        "tour_nodes=[]\n",
        "for edge in eulerian_cycle:\n",
        "  if(edge[0] not in visited_nodes):\n",
        "    tour_nodes.append(edge[0])\n",
        "  visited_nodes.append(edge[0])\n",
        "tour_nodes.append(tour_nodes[0])"
      ],
      "execution_count": 101,
      "outputs": []
    },
    {
      "cell_type": "code",
      "metadata": {
        "colab": {
          "base_uri": "https://localhost:8080/"
        },
        "id": "tYg_27c4Cji5",
        "outputId": "cb5346e3-0f45-4922-c292-c38b5e8e0523"
      },
      "source": [
        "print(tour_nodes)"
      ],
      "execution_count": 102,
      "outputs": [
        {
          "output_type": "stream",
          "name": "stdout",
          "text": [
            "[0, 48, 35, 38, 39, 37, 23, 47, 45, 4, 14, 42, 32, 5, 3, 24, 11, 50, 10, 27, 26, 25, 46, 12, 51, 13, 36, 34, 33, 43, 15, 49, 28, 19, 22, 29, 31, 44, 18, 40, 7, 9, 8, 21, 30, 20, 41, 6, 1, 17, 2, 16, 0]\n"
          ]
        }
      ]
    },
    {
      "cell_type": "code",
      "metadata": {
        "colab": {
          "base_uri": "https://localhost:8080/"
        },
        "id": "zWssKt43Ensm",
        "outputId": "2c42daee-2933-4bf5-e969-c77df597bd44"
      },
      "source": [
        "nx.path_weight(G,tour_nodes,'weight')"
      ],
      "execution_count": 103,
      "outputs": [
        {
          "output_type": "execute_result",
          "data": {
            "text/plain": [
              "10306.259546085352"
            ]
          },
          "metadata": {},
          "execution_count": 103
        }
      ]
    },
    {
      "cell_type": "code",
      "metadata": {
        "colab": {
          "base_uri": "https://localhost:8080/",
          "height": 452
        },
        "id": "yZ7NS7mEFP9H",
        "outputId": "46e4a35e-a220-44bd-b17d-3c4840620f9b"
      },
      "source": [
        "pd.read_csv('DATA/solutions.csv')"
      ],
      "execution_count": 106,
      "outputs": [
        {
          "output_type": "execute_result",
          "data": {
            "text/html": [
              "<div>\n",
              "<style scoped>\n",
              "    .dataframe tbody tr th:only-of-type {\n",
              "        vertical-align: middle;\n",
              "    }\n",
              "\n",
              "    .dataframe tbody tr th {\n",
              "        vertical-align: top;\n",
              "    }\n",
              "\n",
              "    .dataframe thead th {\n",
              "        text-align: right;\n",
              "    }\n",
              "</style>\n",
              "<table border=\"1\" class=\"dataframe\">\n",
              "  <thead>\n",
              "    <tr style=\"text-align: right;\">\n",
              "      <th></th>\n",
              "      <th>Instance</th>\n",
              "      <th>Value</th>\n",
              "    </tr>\n",
              "  </thead>\n",
              "  <tbody>\n",
              "    <tr>\n",
              "      <th>0</th>\n",
              "      <td>Atlanta</td>\n",
              "      <td>2003763</td>\n",
              "    </tr>\n",
              "    <tr>\n",
              "      <th>1</th>\n",
              "      <td>Berlin</td>\n",
              "      <td>7542</td>\n",
              "    </tr>\n",
              "    <tr>\n",
              "      <th>2</th>\n",
              "      <td>Boston</td>\n",
              "      <td>893536</td>\n",
              "    </tr>\n",
              "    <tr>\n",
              "      <th>3</th>\n",
              "      <td>Champaign</td>\n",
              "      <td>52643</td>\n",
              "    </tr>\n",
              "    <tr>\n",
              "      <th>4</th>\n",
              "      <td>Cincinnati</td>\n",
              "      <td>277952</td>\n",
              "    </tr>\n",
              "    <tr>\n",
              "      <th>5</th>\n",
              "      <td>Denver</td>\n",
              "      <td>100431</td>\n",
              "    </tr>\n",
              "    <tr>\n",
              "      <th>6</th>\n",
              "      <td>NYC</td>\n",
              "      <td>1555060</td>\n",
              "    </tr>\n",
              "    <tr>\n",
              "      <th>7</th>\n",
              "      <td>Philadelphia</td>\n",
              "      <td>1395981</td>\n",
              "    </tr>\n",
              "    <tr>\n",
              "      <th>8</th>\n",
              "      <td>Roanoke</td>\n",
              "      <td>655454</td>\n",
              "    </tr>\n",
              "    <tr>\n",
              "      <th>9</th>\n",
              "      <td>SanFrancisco</td>\n",
              "      <td>810196</td>\n",
              "    </tr>\n",
              "    <tr>\n",
              "      <th>10</th>\n",
              "      <td>Toronto</td>\n",
              "      <td>1176151</td>\n",
              "    </tr>\n",
              "    <tr>\n",
              "      <th>11</th>\n",
              "      <td>UKansasState</td>\n",
              "      <td>62962</td>\n",
              "    </tr>\n",
              "    <tr>\n",
              "      <th>12</th>\n",
              "      <td>UMissouri</td>\n",
              "      <td>132709</td>\n",
              "    </tr>\n",
              "  </tbody>\n",
              "</table>\n",
              "</div>"
            ],
            "text/plain": [
              "        Instance    Value\n",
              "0        Atlanta  2003763\n",
              "1         Berlin     7542\n",
              "2         Boston   893536\n",
              "3      Champaign    52643\n",
              "4     Cincinnati   277952\n",
              "5         Denver   100431\n",
              "6            NYC  1555060\n",
              "7   Philadelphia  1395981\n",
              "8        Roanoke   655454\n",
              "9   SanFrancisco   810196\n",
              "10       Toronto  1176151\n",
              "11  UKansasState    62962\n",
              "12     UMissouri   132709"
            ]
          },
          "metadata": {},
          "execution_count": 106
        }
      ]
    },
    {
      "cell_type": "code",
      "metadata": {
        "colab": {
          "base_uri": "https://localhost:8080/"
        },
        "id": "nubOryihCLzL",
        "outputId": "0c5fe1e8-c891-43c2-a513-77c07b776824"
      },
      "source": [
        "10306.259546085352/7542"
      ],
      "execution_count": 107,
      "outputs": [
        {
          "output_type": "execute_result",
          "data": {
            "text/plain": [
              "1.3665154529415742"
            ]
          },
          "metadata": {},
          "execution_count": 107
        }
      ]
    },
    {
      "cell_type": "code",
      "metadata": {
        "id": "0xf94Tv2Frw5"
      },
      "source": [
        ""
      ],
      "execution_count": null,
      "outputs": []
    }
  ]
}